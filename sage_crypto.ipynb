{
 "cells": [
  {
   "cell_type": "code",
   "execution_count": 4,
   "id": "981147d0-eace-4b7d-9c8b-18d9673502bd",
   "metadata": {},
   "outputs": [],
   "source": [
    "G = Zmod(101)"
   ]
  },
  {
   "cell_type": "code",
   "execution_count": 5,
   "id": "d700bb5d-e730-4626-a885-745cab258f40",
   "metadata": {},
   "outputs": [
    {
     "data": {
      "text/plain": [
       "27"
      ]
     },
     "execution_count": 5,
     "metadata": {},
     "output_type": "execute_result"
    }
   ],
   "source": [
    "(50 + 78) % 101"
   ]
  },
  {
   "cell_type": "code",
   "execution_count": 6,
   "id": "adf12f1c-a061-4fd6-b049-d1929002689e",
   "metadata": {},
   "outputs": [
    {
     "data": {
      "text/plain": [
       "51"
      ]
     },
     "execution_count": 6,
     "metadata": {},
     "output_type": "execute_result"
    }
   ],
   "source": [
    "G(2)^-1"
   ]
  },
  {
   "cell_type": "code",
   "execution_count": 7,
   "id": "0cb9576a-f854-4e8d-9281-b81f2298f5f8",
   "metadata": {},
   "outputs": [
    {
     "data": {
      "text/plain": [
       "1"
      ]
     },
     "execution_count": 7,
     "metadata": {},
     "output_type": "execute_result"
    }
   ],
   "source": [
    "G(37)^-1 * 37"
   ]
  },
  {
   "cell_type": "code",
   "execution_count": 8,
   "id": "9af05d89-6af9-4dbb-801f-de137baf9122",
   "metadata": {},
   "outputs": [
    {
     "data": {
      "text/plain": [
       "52"
      ]
     },
     "execution_count": 8,
     "metadata": {},
     "output_type": "execute_result"
    }
   ],
   "source": [
    "pow(37, 28, 101)"
   ]
  },
  {
   "cell_type": "code",
   "execution_count": 9,
   "id": "517daef9-1b99-4a37-8935-7a80ae9bf908",
   "metadata": {},
   "outputs": [
    {
     "data": {
      "text/plain": [
       "52"
      ]
     },
     "execution_count": 9,
     "metadata": {},
     "output_type": "execute_result"
    }
   ],
   "source": [
    "G(37)^28"
   ]
  },
  {
   "cell_type": "code",
   "execution_count": 25,
   "id": "061ec57b-3855-4a11-9eaf-4a8a70c15eee",
   "metadata": {},
   "outputs": [],
   "source": [
    "a = G.random_element()\n",
    "t = randint(1, 100)\n",
    "b = a^t"
   ]
  },
  {
   "cell_type": "code",
   "execution_count": 26,
   "id": "24e3f5e5-3c31-463f-9302-b1b5542b5fef",
   "metadata": {},
   "outputs": [
    {
     "data": {
      "text/plain": [
       "3"
      ]
     },
     "execution_count": 26,
     "metadata": {},
     "output_type": "execute_result"
    }
   ],
   "source": [
    "b.log(a)"
   ]
  },
  {
   "cell_type": "code",
   "execution_count": 27,
   "id": "17bf34c5-1773-42b9-bda6-c818d9d8f948",
   "metadata": {},
   "outputs": [
    {
     "data": {
      "text/plain": [
       "3"
      ]
     },
     "execution_count": 27,
     "metadata": {},
     "output_type": "execute_result"
    }
   ],
   "source": [
    "t"
   ]
  },
  {
   "cell_type": "code",
   "execution_count": 28,
   "id": "84309b8a-d767-4c01-9e23-7230c052f4be",
   "metadata": {},
   "outputs": [
    {
     "data": {
      "text/plain": [
       "67"
      ]
     },
     "execution_count": 28,
     "metadata": {},
     "output_type": "execute_result"
    }
   ],
   "source": [
    "a.log(b)"
   ]
  },
  {
   "cell_type": "code",
   "execution_count": 29,
   "id": "0fce13d2-0a32-4239-bc0b-25bb82f31d64",
   "metadata": {},
   "outputs": [
    {
     "data": {
      "text/plain": [
       "11"
      ]
     },
     "execution_count": 29,
     "metadata": {},
     "output_type": "execute_result"
    }
   ],
   "source": [
    "a^79"
   ]
  },
  {
   "cell_type": "code",
   "execution_count": 30,
   "id": "5ed1f392-a1c1-4850-9a0f-5995b26af6b4",
   "metadata": {},
   "outputs": [
    {
     "data": {
      "text/plain": [
       "72"
      ]
     },
     "execution_count": 30,
     "metadata": {},
     "output_type": "execute_result"
    }
   ],
   "source": [
    "b"
   ]
  },
  {
   "cell_type": "code",
   "execution_count": 31,
   "id": "3319d9c1-dc3c-4c2e-ac51-3121fe16d802",
   "metadata": {},
   "outputs": [
    {
     "data": {
      "text/plain": [
       "92"
      ]
     },
     "execution_count": 31,
     "metadata": {},
     "output_type": "execute_result"
    }
   ],
   "source": [
    "a^4"
   ]
  },
  {
   "cell_type": "code",
   "execution_count": 32,
   "id": "960734b1-5251-4df2-bfb7-2d09cca45e17",
   "metadata": {},
   "outputs": [
    {
     "data": {
      "text/plain": [
       "100"
      ]
     },
     "execution_count": 32,
     "metadata": {},
     "output_type": "execute_result"
    }
   ],
   "source": [
    "a.multiplicative_order()"
   ]
  },
  {
   "cell_type": "code",
   "execution_count": 33,
   "id": "ef190bac-2efb-4e65-ad87-dfec77bab357",
   "metadata": {},
   "outputs": [
    {
     "data": {
      "text/plain": [
       "91"
      ]
     },
     "execution_count": 33,
     "metadata": {},
     "output_type": "execute_result"
    }
   ],
   "source": [
    "a^25"
   ]
  },
  {
   "cell_type": "code",
   "execution_count": 34,
   "id": "b9f8e210-adad-48f5-aa98-e8b2148ac08b",
   "metadata": {},
   "outputs": [
    {
     "data": {
      "text/plain": [
       "(1,)"
      ]
     },
     "execution_count": 34,
     "metadata": {},
     "output_type": "execute_result"
    }
   ],
   "source": [
    "G.gens()"
   ]
  },
  {
   "cell_type": "code",
   "execution_count": 35,
   "id": "9536823e-35f4-4216-bf6f-36ba44f0f864",
   "metadata": {},
   "outputs": [
    {
     "data": {
      "text/plain": [
       "2"
      ]
     },
     "execution_count": 35,
     "metadata": {},
     "output_type": "execute_result"
    }
   ],
   "source": [
    "G.multiplicative_generator()"
   ]
  },
  {
   "cell_type": "code",
   "execution_count": 36,
   "id": "4e36985b-697c-4b2c-ac40-50fab4215c22",
   "metadata": {},
   "outputs": [],
   "source": [
    "s = [pow(2, i, 101) for i in range(100)]"
   ]
  },
  {
   "cell_type": "code",
   "execution_count": 37,
   "id": "eda9a9b5-a436-4617-b870-88efe24cd23a",
   "metadata": {},
   "outputs": [
    {
     "data": {
      "text/plain": [
       "100"
      ]
     },
     "execution_count": 37,
     "metadata": {},
     "output_type": "execute_result"
    }
   ],
   "source": [
    "len(set(s))"
   ]
  },
  {
   "cell_type": "code",
   "execution_count": 38,
   "id": "2a9009f3-fd76-476c-bf7b-69d86ec4b85f",
   "metadata": {},
   "outputs": [
    {
     "data": {
      "text/plain": [
       "100"
      ]
     },
     "execution_count": 38,
     "metadata": {},
     "output_type": "execute_result"
    }
   ],
   "source": [
    "G(2).multiplicative_order()"
   ]
  },
  {
   "cell_type": "code",
   "execution_count": 39,
   "id": "6d6dd499-cda2-4aeb-a5bb-224aad6ac042",
   "metadata": {},
   "outputs": [],
   "source": [
    "p = random_prime(2**256)"
   ]
  },
  {
   "cell_type": "code",
   "execution_count": 40,
   "id": "f258cbc8-84db-4fbe-b36b-d347882fa1ed",
   "metadata": {},
   "outputs": [
    {
     "data": {
      "text/plain": [
       "22548147198570654675529760047783425124760460208631537796275700416139973457227"
      ]
     },
     "execution_count": 40,
     "metadata": {},
     "output_type": "execute_result"
    }
   ],
   "source": [
    "p"
   ]
  },
  {
   "cell_type": "code",
   "execution_count": 41,
   "id": "ee81919f-4c8c-4e88-b187-eb39f432f15a",
   "metadata": {},
   "outputs": [],
   "source": [
    "G = Zmod(p)"
   ]
  },
  {
   "cell_type": "code",
   "execution_count": 42,
   "id": "1a89b862-615e-4cec-b56d-c1b414b5a799",
   "metadata": {},
   "outputs": [
    {
     "data": {
      "text/plain": [
       "22548147198570654675529760047783425124760460208631537796275700416139973457226"
      ]
     },
     "execution_count": 42,
     "metadata": {},
     "output_type": "execute_result"
    }
   ],
   "source": [
    "p - 1"
   ]
  },
  {
   "cell_type": "code",
   "execution_count": 43,
   "id": "d9866a93-ff7d-41e7-827d-c9fc9905ae95",
   "metadata": {},
   "outputs": [],
   "source": [
    "a = randint(1, p -1 )"
   ]
  },
  {
   "cell_type": "code",
   "execution_count": 44,
   "id": "6edbd139-4b31-479e-846e-b73067b9d749",
   "metadata": {},
   "outputs": [],
   "source": [
    "b = randint(1, p -1 )"
   ]
  },
  {
   "cell_type": "code",
   "execution_count": 45,
   "id": "2bd751dd-b653-465d-8102-57c0ceed4b10",
   "metadata": {},
   "outputs": [
    {
     "data": {
      "text/plain": [
       "2"
      ]
     },
     "execution_count": 45,
     "metadata": {},
     "output_type": "execute_result"
    }
   ],
   "source": [
    "G.multiplicative_generator()"
   ]
  },
  {
   "cell_type": "code",
   "execution_count": 46,
   "id": "52bb81fc-01cd-4ca7-86dc-3416de3bafc7",
   "metadata": {},
   "outputs": [],
   "source": [
    "g = G(2)"
   ]
  },
  {
   "cell_type": "code",
   "execution_count": 47,
   "id": "fb63648c-5991-4a71-a83f-2abd924a6102",
   "metadata": {},
   "outputs": [],
   "source": [
    "A = g^a"
   ]
  },
  {
   "cell_type": "code",
   "execution_count": 48,
   "id": "64739d54-0e8e-4db2-a981-79d5b943e9f4",
   "metadata": {},
   "outputs": [],
   "source": [
    "B = g^b"
   ]
  },
  {
   "cell_type": "code",
   "execution_count": 49,
   "id": "f0d5f12b-f177-4ab8-b09b-df9f12eadcaf",
   "metadata": {},
   "outputs": [],
   "source": [
    "C = B^a"
   ]
  },
  {
   "cell_type": "code",
   "execution_count": 50,
   "id": "a1d36627-9b43-45d6-812b-45ee63a708f3",
   "metadata": {},
   "outputs": [
    {
     "data": {
      "text/plain": [
       "17008614930567400375452589662175721836698425030818624459323787440168457037125"
      ]
     },
     "execution_count": 50,
     "metadata": {},
     "output_type": "execute_result"
    }
   ],
   "source": [
    "C"
   ]
  },
  {
   "cell_type": "code",
   "execution_count": 51,
   "id": "ee326eba-c00a-4c65-82d0-7380a240c6e4",
   "metadata": {},
   "outputs": [
    {
     "data": {
      "text/plain": [
       "17008614930567400375452589662175721836698425030818624459323787440168457037125"
      ]
     },
     "execution_count": 51,
     "metadata": {},
     "output_type": "execute_result"
    }
   ],
   "source": [
    "A^b"
   ]
  },
  {
   "cell_type": "code",
   "execution_count": 52,
   "id": "2d965fa8-791e-48d2-9187-8bb4df6a40cf",
   "metadata": {},
   "outputs": [
    {
     "data": {
      "text/plain": [
       "17008614930567400375452589662175721836698425030818624459323787440168457037125"
      ]
     },
     "execution_count": 52,
     "metadata": {},
     "output_type": "execute_result"
    }
   ],
   "source": [
    "g^(a *  b)"
   ]
  },
  {
   "cell_type": "code",
   "execution_count": 53,
   "id": "40cd34fd-faed-4e8f-8591-47a6abbaa497",
   "metadata": {},
   "outputs": [],
   "source": [
    "e = EllipticCurve(GF(101), [1, 69])"
   ]
  },
  {
   "cell_type": "code",
   "execution_count": 54,
   "id": "411438a8-5d29-40c6-8743-2f410e0324dd",
   "metadata": {},
   "outputs": [
    {
     "data": {
      "text/plain": [
       "101"
      ]
     },
     "execution_count": 54,
     "metadata": {},
     "output_type": "execute_result"
    }
   ],
   "source": [
    "e.order()"
   ]
  },
  {
   "cell_type": "code",
   "execution_count": 55,
   "id": "b4466b5e-f147-4508-9cf3-6561bfbe4fde",
   "metadata": {},
   "outputs": [
    {
     "data": {
      "text/plain": [
       "22548147198570654675529760047783425124760460208631537796275700416139973457227"
      ]
     },
     "execution_count": 55,
     "metadata": {},
     "output_type": "execute_result"
    }
   ],
   "source": [
    "G.order()"
   ]
  },
  {
   "cell_type": "code",
   "execution_count": 56,
   "id": "09119a88-8682-49c3-b680-4ad4da2a6717",
   "metadata": {},
   "outputs": [
    {
     "data": {
      "text/plain": [
       "True"
      ]
     },
     "execution_count": 56,
     "metadata": {},
     "output_type": "execute_result"
    }
   ],
   "source": [
    "G.is_field()"
   ]
  },
  {
   "cell_type": "code",
   "execution_count": 57,
   "id": "f46c2ef9-c34a-428a-9b10-0543d0ee7a88",
   "metadata": {},
   "outputs": [
    {
     "data": {
      "text/plain": [
       "Elliptic Curve defined by y^2 = x^3 + x + 69 over Finite Field of size 101"
      ]
     },
     "execution_count": 57,
     "metadata": {},
     "output_type": "execute_result"
    }
   ],
   "source": [
    "e"
   ]
  },
  {
   "cell_type": "code",
   "execution_count": 58,
   "id": "89488b64-0e0c-40d6-83e6-1b7c6c68bb38",
   "metadata": {},
   "outputs": [
    {
     "data": {
      "text/plain": [
       "(94 : 27 : 1)"
      ]
     },
     "execution_count": 58,
     "metadata": {},
     "output_type": "execute_result"
    }
   ],
   "source": [
    "e.random_element()"
   ]
  },
  {
   "cell_type": "code",
   "execution_count": 59,
   "id": "3d5d0f0b-4152-42cf-8334-a19d082003b1",
   "metadata": {},
   "outputs": [
    {
     "data": {
      "text/plain": [
       "24"
      ]
     },
     "execution_count": 59,
     "metadata": {},
     "output_type": "execute_result"
    }
   ],
   "source": [
    "pow(78, 2, 101)"
   ]
  },
  {
   "cell_type": "code",
   "execution_count": 60,
   "id": "5d871baf-f811-49b2-b1d4-ddc516fe1772",
   "metadata": {},
   "outputs": [
    {
     "data": {
      "text/plain": [
       "24"
      ]
     },
     "execution_count": 60,
     "metadata": {},
     "output_type": "execute_result"
    }
   ],
   "source": [
    "(pow(53, 3) + 53 + 69) % 101"
   ]
  },
  {
   "cell_type": "code",
   "execution_count": 61,
   "id": "6a7dcce1-3f8d-45c2-b1e7-5706b61541a6",
   "metadata": {},
   "outputs": [
    {
     "data": {
      "image/png": "[encoded data removed]",
      "text/plain": [
       "Graphics object consisting of 1 graphics primitive"
      ]
     },
     "execution_count": 61,
     "metadata": {},
     "output_type": "execute_result"
    }
   ],
   "source": [
    "e.plot()"
   ]
  },
  {
   "cell_type": "code",
   "execution_count": 62,
   "id": "42ee72c8-9e46-4b27-8296-839f32f75d43",
   "metadata": {},
   "outputs": [
    {
     "data": {
      "image/png": "[encoded data removed]",
      "text/plain": [
       "Graphics object consisting of 1 graphics primitive"
      ]
     },
     "execution_count": 62,
     "metadata": {},
     "output_type": "execute_result"
    }
   ],
   "source": [
    "e.change_ring(QQ).plot()"
   ]
  },
  {
   "cell_type": "code",
   "execution_count": 46,
   "id": "68c32c84-0f04-421d-981c-4b644bc5d9ba",
   "metadata": {},
   "outputs": [],
   "source": [
    "g1 = e.random_point()"
   ]
  },
  {
   "cell_type": "code",
   "execution_count": 47,
   "id": "be964cf8-0f38-4c06-8f5b-03dac9edb04e",
   "metadata": {},
   "outputs": [],
   "source": [
    "g2 = e.random_point()"
   ]
  },
  {
   "cell_type": "code",
   "execution_count": 48,
   "id": "13c60359-02f6-4ac1-bbf8-40d6ed145052",
   "metadata": {},
   "outputs": [
    {
     "data": {
      "text/plain": [
       "(49 : 100 : 1)"
      ]
     },
     "execution_count": 48,
     "metadata": {},
     "output_type": "execute_result"
    }
   ],
   "source": [
    "g1"
   ]
  },
  {
   "cell_type": "code",
   "execution_count": 49,
   "id": "8ad06f85-3749-4566-9fee-6f3c687c4754",
   "metadata": {},
   "outputs": [
    {
     "data": {
      "text/plain": [
       "(29 : 67 : 1)"
      ]
     },
     "execution_count": 49,
     "metadata": {},
     "output_type": "execute_result"
    }
   ],
   "source": [
    "g2"
   ]
  },
  {
   "cell_type": "code",
   "execution_count": 50,
   "id": "6848a611-d14b-4ebd-ba0c-12f3b0eec190",
   "metadata": {},
   "outputs": [
    {
     "data": {
      "text/plain": [
       "(79 : 2 : 1)"
      ]
     },
     "execution_count": 50,
     "metadata": {},
     "output_type": "execute_result"
    }
   ],
   "source": [
    "g1 + g2"
   ]
  },
  {
   "cell_type": "code",
   "execution_count": 51,
   "id": "2e1393ac-5d24-4691-87b3-57bb05421f5a",
   "metadata": {},
   "outputs": [
    {
     "data": {
      "text/plain": [
       "(28 : 58 : 1)"
      ]
     },
     "execution_count": 51,
     "metadata": {},
     "output_type": "execute_result"
    }
   ],
   "source": [
    "50 * g1"
   ]
  },
  {
   "cell_type": "code",
   "execution_count": 52,
   "id": "88b4e4a5-52b1-48de-b57c-34f03716e1b7",
   "metadata": {},
   "outputs": [
    {
     "data": {
      "text/plain": [
       "(49 : 100 : 1)"
      ]
     },
     "execution_count": 52,
     "metadata": {},
     "output_type": "execute_result"
    }
   ],
   "source": [
    "g1"
   ]
  },
  {
   "cell_type": "code",
   "execution_count": 53,
   "id": "74606a6c-58e5-448b-97d3-f0dbd1cd242f",
   "metadata": {},
   "outputs": [
    {
     "data": {
      "text/plain": [
       "(0 : 1 : 0)"
      ]
     },
     "execution_count": 53,
     "metadata": {},
     "output_type": "execute_result"
    }
   ],
   "source": [
    "e[0]"
   ]
  },
  {
   "cell_type": "code",
   "execution_count": 54,
   "id": "f1fb2198-31c5-4424-ac5d-4ecc4ebe0e2e",
   "metadata": {},
   "outputs": [
    {
     "data": {
      "text/plain": [
       "(49 : 100 : 1)"
      ]
     },
     "execution_count": 54,
     "metadata": {},
     "output_type": "execute_result"
    }
   ],
   "source": [
    "g1 + e[0]"
   ]
  },
  {
   "cell_type": "code",
   "execution_count": 55,
   "id": "d2018b9a-1243-4b9e-a6c1-05a1661c3cf2",
   "metadata": {},
   "outputs": [
    {
     "data": {
      "text/plain": [
       "(49 : 100 : 1)"
      ]
     },
     "execution_count": 55,
     "metadata": {},
     "output_type": "execute_result"
    }
   ],
   "source": [
    "g1"
   ]
  },
  {
   "cell_type": "code",
   "execution_count": 56,
   "id": "c5528e90-13aa-42e9-b440-0f10db7c2a08",
   "metadata": {},
   "outputs": [
    {
     "data": {
      "text/plain": [
       "(49 : 100 : 1)"
      ]
     },
     "execution_count": 56,
     "metadata": {},
     "output_type": "execute_result"
    }
   ],
   "source": [
    "g1"
   ]
  },
  {
   "cell_type": "code",
   "execution_count": 57,
   "id": "5894f7ed-72f9-4fc7-8d09-d055bf29d001",
   "metadata": {},
   "outputs": [
    {
     "data": {
      "text/plain": [
       "101"
      ]
     },
     "execution_count": 57,
     "metadata": {},
     "output_type": "execute_result"
    }
   ],
   "source": [
    "g1.order()"
   ]
  },
  {
   "cell_type": "code",
   "execution_count": 58,
   "id": "6e3f9ff5-2bd0-4bd4-9262-c4630e139f92",
   "metadata": {},
   "outputs": [],
   "source": [
    "e = EllipticCurve(GF(p), [1, 69])"
   ]
  },
  {
   "cell_type": "code",
   "execution_count": 63,
   "id": "6443cba8-a894-463a-950e-c7c6582e24c1",
   "metadata": {},
   "outputs": [
    {
     "data": {
      "text/plain": [
       "Elliptic Curve defined by y^2 = x^3 + x + 69 over Finite Field of size 101"
      ]
     },
     "execution_count": 63,
     "metadata": {},
     "output_type": "execute_result"
    }
   ],
   "source": [
    "e"
   ]
  },
  {
   "cell_type": "code",
   "execution_count": null,
   "id": "e269ac7a-7ebe-48ad-b456-99d766806b75",
   "metadata": {},
   "outputs": [],
   "source": []
  },
  {
   "cell_type": "code",
   "execution_count": 64,
   "id": "c1c07fa7-de56-46b5-9a56-d294ded46819",
   "metadata": {},
   "outputs": [
    {
     "data": {
      "text/plain": [
       "101"
      ]
     },
     "execution_count": 64,
     "metadata": {},
     "output_type": "execute_result"
    }
   ],
   "source": [
    "e.order()"
   ]
  },
  {
   "cell_type": "code",
   "execution_count": 65,
   "id": "afa27de6-6b07-4e1f-89e3-6e5a0ad5ab3e",
   "metadata": {},
   "outputs": [
    {
     "data": {
      "text/plain": [
       "101"
      ]
     },
     "execution_count": 65,
     "metadata": {},
     "output_type": "execute_result"
    }
   ],
   "source": [
    "factor(e.order())"
   ]
  },
  {
   "cell_type": "code",
   "execution_count": 66,
   "id": "c2f51adf-286f-425a-9fd0-bc8c8a1d6dbf",
   "metadata": {},
   "outputs": [],
   "source": [
    "g1 = e.random_element()"
   ]
  },
  {
   "cell_type": "code",
   "execution_count": 67,
   "id": "3cd1328b-d459-4636-80e1-52b5aaaf8168",
   "metadata": {},
   "outputs": [],
   "source": [
    "a = randint(1, e.order())"
   ]
  },
  {
   "cell_type": "code",
   "execution_count": 68,
   "id": "f3b9fb4b-27a7-4bd3-a6e9-2e05a7b25a96",
   "metadata": {},
   "outputs": [
    {
     "data": {
      "text/plain": [
       "92"
      ]
     },
     "execution_count": 68,
     "metadata": {},
     "output_type": "execute_result"
    }
   ],
   "source": [
    "a"
   ]
  },
  {
   "cell_type": "code",
   "execution_count": 69,
   "id": "501491e9-c43b-4073-b48b-584a9d5716fd",
   "metadata": {},
   "outputs": [
    {
     "data": {
      "text/plain": [
       "(57 : 61 : 1)"
      ]
     },
     "execution_count": 69,
     "metadata": {},
     "output_type": "execute_result"
    }
   ],
   "source": [
    "a * g1"
   ]
  },
  {
   "cell_type": "code",
   "execution_count": 70,
   "id": "6613aef3-47d2-42a7-9841-0e72e1a1beba",
   "metadata": {},
   "outputs": [],
   "source": [
    "p = random_prime(2**256)"
   ]
  },
  {
   "cell_type": "code",
   "execution_count": 71,
   "id": "19e290db-2643-43ca-bc37-98123ba18676",
   "metadata": {},
   "outputs": [],
   "source": [
    "q = random_prime(2**256)"
   ]
  },
  {
   "cell_type": "code",
   "execution_count": 72,
   "id": "ee445b15-3ce4-4e75-9578-18838276d855",
   "metadata": {},
   "outputs": [],
   "source": [
    "n = p * q"
   ]
  },
  {
   "cell_type": "code",
   "execution_count": 73,
   "id": "8889085d-b294-4434-98a9-4f65dd238f83",
   "metadata": {},
   "outputs": [
    {
     "data": {
      "text/plain": [
       "4933928097858511090783838618811702829552601476604475930496639613439189273425437251649605133055492691099114139081895065633561410024993051973866954393154649"
      ]
     },
     "execution_count": 73,
     "metadata": {},
     "output_type": "execute_result"
    }
   ],
   "source": [
    "n"
   ]
  },
  {
   "cell_type": "code",
   "execution_count": 74,
   "id": "41162373-f79a-4726-acc2-0abf293ec9e3",
   "metadata": {},
   "outputs": [
    {
     "name": "stdout",
     "output_type": "stream",
     "text": [
      "4933928097858511090783838618811702829552601476604475930496639613439189273425437251649605133055492691099114139081895065633561410024993051973866954393154649\n"
     ]
    }
   ],
   "source": [
    "print(n)"
   ]
  },
  {
   "cell_type": "code",
   "execution_count": 75,
   "id": "e308e332-12e7-45f3-892a-c9a94756a5c4",
   "metadata": {},
   "outputs": [],
   "source": [
    "m = int.from_bytes(b'I love MEPhI', 'big')"
   ]
  },
  {
   "cell_type": "code",
   "execution_count": 76,
   "id": "68586a61-54cc-4f20-a462-8963da930613",
   "metadata": {},
   "outputs": [
    {
     "data": {
      "text/plain": [
       "22631603414885860839313664073"
      ]
     },
     "execution_count": 76,
     "metadata": {},
     "output_type": "execute_result"
    }
   ],
   "source": [
    "m"
   ]
  },
  {
   "cell_type": "code",
   "execution_count": 77,
   "id": "895797e9-422c-4dba-b40b-f485a9345a49",
   "metadata": {},
   "outputs": [],
   "source": [
    "e = 0x10001"
   ]
  },
  {
   "cell_type": "code",
   "execution_count": 78,
   "id": "e3684f9d-9b21-4792-96f4-78747509ff54",
   "metadata": {},
   "outputs": [
    {
     "data": {
      "text/plain": [
       "65537"
      ]
     },
     "execution_count": 78,
     "metadata": {},
     "output_type": "execute_result"
    }
   ],
   "source": [
    "e"
   ]
  },
  {
   "cell_type": "code",
   "execution_count": 79,
   "id": "a76843a9-50a8-456a-80ee-281b10d8906c",
   "metadata": {},
   "outputs": [
    {
     "data": {
      "text/plain": [
       "1.00541448132059"
      ]
     },
     "execution_count": 79,
     "metadata": {},
     "output_type": "execute_result"
    }
   ],
   "source": [
    "pow(n, 1/e).n()"
   ]
  },
  {
   "cell_type": "code",
   "execution_count": 80,
   "id": "bf1fc185-ff6a-4c02-8541-43525bfb01a8",
   "metadata": {},
   "outputs": [],
   "source": [
    "e = 3"
   ]
  },
  {
   "cell_type": "code",
   "execution_count": 81,
   "id": "21b747db-f8e4-4c0c-a13f-5a5b1784e044",
   "metadata": {},
   "outputs": [
    {
     "data": {
      "text/plain": [
       "'0b11'"
      ]
     },
     "execution_count": 81,
     "metadata": {},
     "output_type": "execute_result"
    }
   ],
   "source": [
    "bin(3)"
   ]
  },
  {
   "cell_type": "code",
   "execution_count": 82,
   "id": "d4f235bc-7489-4b26-bfe7-da4155960ebe",
   "metadata": {},
   "outputs": [
    {
     "data": {
      "text/plain": [
       "11591669029127473821947021824461524272388119800915009730192280075610971723023770757017"
      ]
     },
     "execution_count": 82,
     "metadata": {},
     "output_type": "execute_result"
    }
   ],
   "source": [
    "pow(m, 3, n)"
   ]
  },
  {
   "cell_type": "code",
   "execution_count": 83,
   "id": "96fd2bbd-d8ae-45e8-8c02-cf5928e66660",
   "metadata": {},
   "outputs": [
    {
     "data": {
      "text/plain": [
       "11591669029127473821947021824461524272388119800915009730192280075610971723023770757017"
      ]
     },
     "execution_count": 83,
     "metadata": {},
     "output_type": "execute_result"
    }
   ],
   "source": [
    "m^3"
   ]
  },
  {
   "cell_type": "code",
   "execution_count": 84,
   "id": "be3c7743-89c9-49ba-9c77-6df9062400ae",
   "metadata": {},
   "outputs": [],
   "source": [
    "e = 0x10001"
   ]
  },
  {
   "cell_type": "code",
   "execution_count": 85,
   "id": "cb607404-00a1-47f7-ad63-847e049a001e",
   "metadata": {},
   "outputs": [],
   "source": [
    "c = pow(m, e, n)"
   ]
  },
  {
   "cell_type": "code",
   "execution_count": 86,
   "id": "2cca9f56-1127-4f35-9f86-d59078e828c2",
   "metadata": {},
   "outputs": [
    {
     "data": {
      "text/plain": [
       "1071957646112879737691762184134115891073463207069341649664955577894843860323198988319718006574097161455814962803394355202117950526073221216674989570139553"
      ]
     },
     "execution_count": 86,
     "metadata": {},
     "output_type": "execute_result"
    }
   ],
   "source": [
    "c"
   ]
  },
  {
   "cell_type": "code",
   "execution_count": 87,
   "id": "ee56706c-63f1-4c28-8968-9b57daa1e834",
   "metadata": {},
   "outputs": [],
   "source": [
    "d = pow(e, -1, (p - 1) * (q - 1))"
   ]
  },
  {
   "cell_type": "code",
   "execution_count": 88,
   "id": "40664fb3-cb6c-47ab-a282-b7525111e8ea",
   "metadata": {},
   "outputs": [
    {
     "data": {
      "text/plain": [
       "22631603414885860839313664073"
      ]
     },
     "execution_count": 88,
     "metadata": {},
     "output_type": "execute_result"
    }
   ],
   "source": [
    "pow(c, d, n)"
   ]
  },
  {
   "cell_type": "code",
   "execution_count": 89,
   "id": "4b57f54e-9a45-4b1a-8682-6710b790b28b",
   "metadata": {},
   "outputs": [
    {
     "data": {
      "text/plain": [
       "22631603414885860839313664073"
      ]
     },
     "execution_count": 89,
     "metadata": {},
     "output_type": "execute_result"
    }
   ],
   "source": [
    "m"
   ]
  },
  {
   "cell_type": "code",
   "execution_count": 90,
   "id": "cf1193a2-b570-4298-8238-0c25222e122c",
   "metadata": {},
   "outputs": [],
   "source": [
    "sign = pow(m, d, n)"
   ]
  },
  {
   "cell_type": "code",
   "execution_count": 91,
   "id": "fbbd7c85-cf01-4ced-a404-91adc9177be6",
   "metadata": {},
   "outputs": [
    {
     "data": {
      "text/plain": [
       "2991454146604604775120348460716438165047189768742874675137560129549604071089226151413471749085738002713717614057085720422980702120637624427528178443419823"
      ]
     },
     "execution_count": 91,
     "metadata": {},
     "output_type": "execute_result"
    }
   ],
   "source": [
    "sign"
   ]
  },
  {
   "cell_type": "code",
   "execution_count": 92,
   "id": "5a67128b-5027-4a93-abdd-800e4c1ec7d7",
   "metadata": {},
   "outputs": [
    {
     "data": {
      "text/plain": [
       "22631603414885860839313664073"
      ]
     },
     "execution_count": 92,
     "metadata": {},
     "output_type": "execute_result"
    }
   ],
   "source": [
    "m"
   ]
  },
  {
   "cell_type": "code",
   "execution_count": 93,
   "id": "af030f64-d15a-4290-907c-6a56754c2c27",
   "metadata": {},
   "outputs": [
    {
     "data": {
      "text/plain": [
       "22631603414885860839313664073"
      ]
     },
     "execution_count": 93,
     "metadata": {},
     "output_type": "execute_result"
    }
   ],
   "source": [
    "pow(sign, e, n)"
   ]
  },
  {
   "cell_type": "code",
   "execution_count": 94,
   "id": "356ec293-756d-44f4-8773-643774c1be05",
   "metadata": {},
   "outputs": [
    {
     "data": {
      "text/plain": [
       "22631603414885860839313664073"
      ]
     },
     "execution_count": 94,
     "metadata": {},
     "output_type": "execute_result"
    }
   ],
   "source": [
    "m"
   ]
  },
  {
   "cell_type": "code",
   "execution_count": 95,
   "id": "d175ac11-2334-4087-84bb-1ceed890809c",
   "metadata": {},
   "outputs": [],
   "source": [
    "s = 3"
   ]
  },
  {
   "cell_type": "code",
   "execution_count": 96,
   "id": "988b1484-d937-4775-bc74-e6f3b74af819",
   "metadata": {},
   "outputs": [],
   "source": [
    "sig1 = pow(3, d, n)"
   ]
  },
  {
   "cell_type": "code",
   "execution_count": 97,
   "id": "f8752ba0-919d-4d75-8138-ddb9289a88a1",
   "metadata": {},
   "outputs": [
    {
     "data": {
      "text/plain": [
       "2479398939907454991194619139331362671705526366976305245189253988252160864571092159417189325678830440486829456567243357911814253175868834434491912533839077"
      ]
     },
     "execution_count": 97,
     "metadata": {},
     "output_type": "execute_result"
    }
   ],
   "source": [
    "(sig1 * sign) % n"
   ]
  },
  {
   "cell_type": "code",
   "execution_count": 98,
   "id": "7f3fa581-1410-4b32-ba43-9b7a695dfbcf",
   "metadata": {},
   "outputs": [
    {
     "data": {
      "text/plain": [
       "2479398939907454991194619139331362671705526366976305245189253988252160864571092159417189325678830440486829456567243357911814253175868834434491912533839077"
      ]
     },
     "execution_count": 98,
     "metadata": {},
     "output_type": "execute_result"
    }
   ],
   "source": [
    "pow(3 * m, d, n)"
   ]
  },
  {
   "cell_type": "code",
   "execution_count": 99,
   "id": "b721208d-6cc2-4bca-ad30-e3fdd987180d",
   "metadata": {},
   "outputs": [],
   "source": [
    "p = 0xffffffff00000001000000000000000000000000ffffffffffffffffffffffff\n",
    "K = GF(p)\n",
    "a = K(0xffffffff00000001000000000000000000000000fffffffffffffffffffffffc)\n",
    "b = K(0x5ac635d8aa3a93e7b3ebbd55769886bc651d06b0cc53b0f63bce3c3e27d2604b)\n",
    "E = EllipticCurve(K, (a, b))\n",
    "G = E(0x6b17d1f2e12c4247f8bce6e563a440f277037d812deb33a0f4a13945d898c296, 0x4fe342e2fe1a7f9b8ee7eb4a7c0f9e162bce33576b315ececbb6406837bf51f5)\n",
    "E.set_order(0xffffffff00000000ffffffffffffffffbce6faada7179e84f3b9cac2fc632551 * 0x1)"
   ]
  },
  {
   "cell_type": "code",
   "execution_count": 100,
   "id": "75a9fc6e-e9bd-4f9e-b0bc-2837590eac6e",
   "metadata": {},
   "outputs": [
    {
     "data": {
      "text/plain": [
       "True"
      ]
     },
     "execution_count": 100,
     "metadata": {},
     "output_type": "execute_result"
    }
   ],
   "source": [
    "is_prime(0xffffffff00000000ffffffffffffffffbce6faada7179e84f3b9cac2fc632551)"
   ]
  },
  {
   "cell_type": "code",
   "execution_count": 101,
   "id": "f2969bed-90c9-4528-a27a-76f9b1e89570",
   "metadata": {},
   "outputs": [],
   "source": [
    "o = 0xffffffff00000000ffffffffffffffffbce6faada7179e84f3b9cac2fc632551"
   ]
  },
  {
   "cell_type": "code",
   "execution_count": 102,
   "id": "b5877e15-e15a-45c8-88c3-c63b4afd78fe",
   "metadata": {},
   "outputs": [
    {
     "data": {
      "text/plain": [
       "(0 : 1 : 0)"
      ]
     },
     "execution_count": 102,
     "metadata": {},
     "output_type": "execute_result"
    }
   ],
   "source": [
    "E.random_element() * o"
   ]
  },
  {
   "cell_type": "code",
   "execution_count": 103,
   "id": "0310ca85-af2a-43b3-abad-f31540e29e6d",
   "metadata": {},
   "outputs": [
    {
     "data": {
      "text/plain": [
       "(0 : 1 : 0)"
      ]
     },
     "execution_count": 103,
     "metadata": {},
     "output_type": "execute_result"
    }
   ],
   "source": [
    "E.random_element() * o"
   ]
  },
  {
   "cell_type": "code",
   "execution_count": 104,
   "id": "ce6a8d8b-485b-42f8-9ad8-b0dee1a32add",
   "metadata": {},
   "outputs": [],
   "source": [
    "m = b'Typical politician'"
   ]
  },
  {
   "cell_type": "code",
   "execution_count": 105,
   "id": "0450a0f9-2a44-41c6-8a20-aaebdc455c86",
   "metadata": {},
   "outputs": [],
   "source": [
    "d = randint(1, o-1)"
   ]
  },
  {
   "cell_type": "code",
   "execution_count": 106,
   "id": "f7472c55-5bbf-4ffa-ae3f-77a6aaa438a9",
   "metadata": {},
   "outputs": [],
   "source": [
    "Q = d * G"
   ]
  },
  {
   "cell_type": "code",
   "execution_count": 107,
   "id": "5e85df7f-804b-4e96-988c-9b059b371b1d",
   "metadata": {},
   "outputs": [],
   "source": [
    "from hashlib import sha256"
   ]
  },
  {
   "cell_type": "code",
   "execution_count": 108,
   "id": "96c213ca-1922-4bf4-aeb4-fe344855d1ac",
   "metadata": {},
   "outputs": [],
   "source": [
    "h = int.from_bytes(sha256(m).digest(), 'big')"
   ]
  },
  {
   "cell_type": "code",
   "execution_count": 109,
   "id": "3bbf78c8-81d0-453e-b14c-40f2ee90749a",
   "metadata": {},
   "outputs": [],
   "source": [
    "k = randint(1, o-1)"
   ]
  },
  {
   "cell_type": "code",
   "execution_count": 110,
   "id": "fcbdcfc5-c629-4ca4-b182-b45ba0164c62",
   "metadata": {},
   "outputs": [],
   "source": [
    "R = k * G"
   ]
  },
  {
   "cell_type": "code",
   "execution_count": 111,
   "id": "489a9e52-b612-40e7-ad19-3aebbb78436a",
   "metadata": {},
   "outputs": [],
   "source": [
    "r = int(R[0]) % o"
   ]
  },
  {
   "cell_type": "code",
   "execution_count": 112,
   "id": "af312632-c9b8-433d-ac88-488c8b38f0a3",
   "metadata": {},
   "outputs": [],
   "source": [
    "s = pow(k, -1, o) * (h + r * d) % o"
   ]
  },
  {
   "cell_type": "code",
   "execution_count": 113,
   "id": "2758c537-499d-4227-b8fc-5a04bc3cf7ad",
   "metadata": {},
   "outputs": [
    {
     "data": {
      "text/plain": [
       "(18260649393053173696888488897177110147788829206260925941660816418338297223051,\n",
       " 5067582759517534211800684971471944052893005303943271130365153590179521549802)"
      ]
     },
     "execution_count": 113,
     "metadata": {},
     "output_type": "execute_result"
    }
   ],
   "source": [
    "(r, s)"
   ]
  },
  {
   "cell_type": "markdown",
   "id": "8e8dff19-0786-4259-b205-66229b35bd20",
   "metadata": {},
   "source": [
    "$ r = (k * G).x$\n",
    "\n",
    "\n",
    " $s = k^{-1} * (h + r * d) \\pmod{o}$\n",
    "\n",
    "\n",
    "\n",
    " $u_1 = s^{-1} * h$\n",
    "\n",
    " \n",
    " $u_2 = s^{-1} * r$\n",
    "\n",
    " $u_1 * G + u_2 * Q = s^{-1} * h * G + s^{-1} * r * d * G = s^{-1} * G * (h + r * d) = k * G = R$"
   ]
  },
  {
   "cell_type": "code",
   "execution_count": null,
   "id": "ebb59ad7-dac8-4e51-b4c1-452814426bb7",
   "metadata": {},
   "outputs": [],
   "source": []
  },
  {
   "cell_type": "code",
   "execution_count": null,
   "id": "a21ae740-0f3b-4b62-823c-8dc014283ffb",
   "metadata": {},
   "outputs": [],
   "source": []
  }
 ],
 "metadata": {
  "kernelspec": {
   "display_name": "SageMath 10.3",
   "language": "sage",
   "name": "sagemath"
  },
  "language_info": {
   "codemirror_mode": {
    "name": "ipython",
    "version": 3
   },
   "file_extension": ".py",
   "mimetype": "text/x-python",
   "name": "python",
   "nbconvert_exporter": "python",
   "pygments_lexer": "ipython3",
   "version": "3.11.8"
  }
 },
 "nbformat": 4,
 "nbformat_minor": 5
}
